{
 "cells": [
  {
   "cell_type": "code",
   "execution_count": 1,
   "metadata": {
    "executionInfo": {
     "elapsed": 5357,
     "status": "ok",
     "timestamp": 1735080748704,
     "user": {
      "displayName": "abhinav batra",
      "userId": "02448022666212702058"
     },
     "user_tz": 360
    },
    "id": "ISjGtYLKJnCX"
   },
   "outputs": [],
   "source": [
    "import pandas as pd\n",
    "import numpy as np\n",
    "import matplotlib.pyplot as plt\n",
    "\n",
    "\n",
    "from scipy.stats import mannwhitneyu"
   ]
  },
  {
   "cell_type": "code",
   "execution_count": null,
   "metadata": {
    "id": "UrrU9C3T58Qv"
   },
   "outputs": [],
   "source": [
    "from mpmath import mp\n",
    "# Set the desired decimal precision (e.g., 50 decimal places)\n",
    "mp.dps = 50"
   ]
  },
  {
   "cell_type": "code",
   "execution_count": null,
   "metadata": {
    "id": "c92vu61HJs18"
   },
   "outputs": [],
   "source": [
    "df = pd.read_csv(\"movie_dataset.csv\")"
   ]
  },
  {
   "cell_type": "code",
   "execution_count": null,
   "metadata": {
    "id": "jRYGmjT6OIQg"
   },
   "outputs": [],
   "source": [
    "df_1 = df.iloc[:,0:400]"
   ]
  },
  {
   "cell_type": "code",
   "execution_count": null,
   "metadata": {
    "colab": {
     "base_uri": "https://localhost:8080/"
    },
    "id": "wCwVZAeTOMvd",
    "outputId": "3d613595-adda-4f1c-91b7-f1cb324544e1"
   },
   "outputs": [
    {
     "name": "stdout",
     "output_type": "stream",
     "text": [
      "Index(['The Life of David Gale (2003)', 'Wing Commander (1999)',\n",
      "       'Django Unchained (2012)', 'Alien (1979)',\n",
      "       'Indiana Jones and the Last Crusade (1989)', 'Snatch (2000)',\n",
      "       'Rambo: First Blood Part II (1985)', 'Fargo (1996)',\n",
      "       'Let the Right One In (2008)', 'Black Swan (2010)',\n",
      "       ...\n",
      "       'X-Men 2 (2003)', 'The Usual Suspects (1995)', 'The Mask (1994)',\n",
      "       'Jaws (1975)', 'Harry Potter and the Chamber of Secrets (2002)',\n",
      "       'Patton (1970)', 'Anaconda (1997)', 'Twister (1996)',\n",
      "       'MacArthur (1977)', 'Look Who's Talking (1989)'],\n",
      "      dtype='object', length=400)\n"
     ]
    }
   ],
   "source": [
    "print(df_1.columns)"
   ]
  },
  {
   "cell_type": "markdown",
   "metadata": {
    "id": "2e0q-iyRI8NP"
   },
   "source": [
    "Question 5: Do people who are only children enjoy ‘The Lion King(1994)’ more than people with siblings?"
   ]
  },
  {
   "cell_type": "code",
   "execution_count": null,
   "metadata": {
    "id": "qDgxT8jLJlQM"
   },
   "outputs": [],
   "source": [
    "#creating array with column headers that we are concerned about\n",
    "array = df[['The Lion King (1994)' , 'Are you an only child? (1: Yes; 0: No; -1: Did not respond)']]\n",
    "\n",
    "#removing nan values from the array with the Lion King Movie and if the child has siblings or not\n",
    "cleaned_data_5 = array.dropna()\n",
    "\n",
    "#removing the values with -1, no response\n",
    "cleaned_data_5 = cleaned_data_5[cleaned_data_5['Are you an only child? (1: Yes; 0: No; -1: Did not respond)'] != -1]\n",
    "\n",
    "#creating new array with children who do NOT have siblings\n",
    "cd_only_child = cleaned_data_5[cleaned_data_5['Are you an only child? (1: Yes; 0: No; -1: Did not respond)'] == 0]\n",
    "\n",
    "#create a new array with children who DO have siblings\n",
    "cd_siblings = cleaned_data_5[cleaned_data_5['Are you an only child? (1: Yes; 0: No; -1: Did not respond)'] == 1]\n",
    "\n",
    "stats.mannwhitneyu(cd_only_child['The Lion King (1994)'], cd_siblings['The Lion King (1994)'], alternative = 'greater')"
   ]
  },
  {
   "cell_type": "markdown",
   "metadata": {
    "id": "x7Hq7agtI3aG"
   },
   "source": [
    "Question 6: What proportion of movies exhibit an “only child effect”, i.e. are rated different by viewers with siblings vs. those without?"
   ]
  },
  {
   "cell_type": "code",
   "execution_count": null,
   "metadata": {
    "id": "5zuTNsEUJmDR"
   },
   "outputs": [],
   "source": [
    "only_child = []\n",
    "siblings = []\n",
    "significant_count = 0\n",
    "\n",
    "for movie in df.columns.values[0:400]:\n",
    "    array_2 = df[[ movie, 'Are you an only child? (1: Yes; 0: No; -1: Did not respond)']].dropna()\n",
    "    cleaned_array_2 = array_2[array_2['Are you an only child? (1: Yes; 0: No; -1: Did not respond)'] != -1]\n",
    "\n",
    "    only_child = cleaned_array_2[cleaned_array_2['Are you an only child? (1: Yes; 0: No; -1: Did not respond)'] == 1][movie]\n",
    "    child_w_siblings = cleaned_array_2[cleaned_array_2['Are you an only child? (1: Yes; 0: No; -1: Did not respond)'] == 0][movie]\n",
    "\n",
    "    if len(only_child) > 0 and len(child_w_siblings) > 0:\n",
    "        stat, p_value = stats.mannwhitneyu(only_child, child_w_siblings)\n",
    "        if p_value < 0.005:\n",
    "            significant_count += 1\n",
    "\n",
    "total_movies = 400\n",
    "proportion_effect = significant_count / total_movies if total_movies > 0 else 0\n",
    "print(f\"Proportion of movies with a significant 'only child effect': {proportion_effect:.2f}\")"
   ]
  },
  {
   "cell_type": "markdown",
   "metadata": {
    "id": "9hqX1graJ4x1"
   },
   "source": [
    "Extra Credit:  Are Star trek fans harsher on rating Star Wars movies (approximated by raters of Star\n",
    " Wars episode V (1980) and Star Trek: The Motion Picture (1979))"
   ]
  },
  {
   "cell_type": "code",
   "execution_count": null,
   "metadata": {
    "id": "xCiJpTz2KB6F"
   },
   "outputs": [],
   "source": [
    "# filter for \"Star Trek: The Motion Picture (1979)\" and \"Star Wars: Episode V - The Empire Strikes Back (1980)\"\n",
    "\n",
    "df_filtered = df[[\"Star Trek: The Motion Picture (1979)\",\"Star Wars: Episode V - The Empire Strikes Back (1980)\"]]\n",
    "\n",
    "# rated_star_trek flag\n",
    "df_filtered['rated_star_trek'] = np.where(df['Star Trek: The Motion Picture (1979)'].isna(), 0, 1)\n",
    "\n",
    "# rated star trek and rated star wars episode -  5\n",
    "\n",
    "df_both = df_filtered[df_filtered['rated_star_trek'] == 1][['Star Wars: Episode V - The Empire Strikes Back (1980)']].dropna()\n",
    "df_star_wars = df_filtered[df_filtered['rated_star_trek'] == 0][['Star Wars: Episode V - The Empire Strikes Back (1980)']].dropna()"
   ]
  },
  {
   "cell_type": "code",
   "execution_count": null,
   "metadata": {
    "id": "O4WJrafMyAEd"
   },
   "outputs": [],
   "source": [
    "rated_both_movies = wrangle_movie_ratings(df_both)\n",
    "rated_star_wars = wrangle_movie_ratings(df_star_wars)"
   ]
  },
  {
   "cell_type": "code",
   "execution_count": null,
   "metadata": {
    "id": "a-5BUW5WyEQC"
   },
   "outputs": [],
   "source": [
    "# not seen star trek > have seen star trek\n",
    "\n",
    "stat , p_value = mannwhitneyu(rated_star_wars, rated_both_movies, alternative='greater')"
   ]
  },
  {
   "cell_type": "code",
   "execution_count": null,
   "metadata": {
    "id": "IyupTSDRyFwv"
   },
   "outputs": [],
   "source": [
    "print(p_value)"
   ]
  }
 ],
 "metadata": {
  "colab": {
   "provenance": []
  },
  "kernelspec": {
   "display_name": "Python 3",
   "name": "python3"
  },
  "language_info": {
   "name": "python"
  }
 },
 "nbformat": 4,
 "nbformat_minor": 0
}
